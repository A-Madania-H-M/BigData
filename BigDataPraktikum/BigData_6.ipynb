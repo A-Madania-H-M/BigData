{
  "nbformat": 4,
  "nbformat_minor": 0,
  "metadata": {
    "colab": {
      "provenance": []
    },
    "kernelspec": {
      "name": "python3",
      "display_name": "Python 3"
    },
    "language_info": {
      "name": "python"
    }
  },
  "cells": [
    {
      "cell_type": "code",
      "execution_count": null,
      "metadata": {
        "colab": {
          "base_uri": "https://localhost:8080/"
        },
        "id": "-JprGGcxx5r8",
        "outputId": "22232381-4469-43d1-f581-e27052bb0c5f"
      },
      "outputs": [
        {
          "output_type": "stream",
          "name": "stdout",
          "text": [
            "Collecting pandas==2.2.2\n",
            "  Downloading pandas-2.2.2-cp310-cp310-manylinux_2_17_x86_64.manylinux2014_x86_64.whl.metadata (19 kB)\n",
            "Requirement already satisfied: numpy in /usr/local/lib/python3.10/dist-packages (1.26.4)\n",
            "Collecting pyspark==3.4.1\n",
            "  Downloading pyspark-3.4.1.tar.gz (310.8 MB)\n",
            "\u001b[2K     \u001b[90m━━━━━━━━━━━━━━━━━━━━━━━━━━━━━━━━━━━━━━━━\u001b[0m \u001b[32m310.8/310.8 MB\u001b[0m \u001b[31m4.0 MB/s\u001b[0m eta \u001b[36m0:00:00\u001b[0m\n",
            "\u001b[?25h  Preparing metadata (setup.py) ... \u001b[?25l\u001b[?25hdone\n",
            "Requirement already satisfied: python-dateutil>=2.8.2 in /usr/local/lib/python3.10/dist-packages (from pandas==2.2.2) (2.8.2)\n",
            "Requirement already satisfied: pytz>=2020.1 in /usr/local/lib/python3.10/dist-packages (from pandas==2.2.2) (2024.2)\n",
            "Requirement already satisfied: tzdata>=2022.7 in /usr/local/lib/python3.10/dist-packages (from pandas==2.2.2) (2024.1)\n",
            "Requirement already satisfied: py4j==0.10.9.7 in /usr/local/lib/python3.10/dist-packages (from pyspark==3.4.1) (0.10.9.7)\n",
            "Requirement already satisfied: six>=1.5 in /usr/local/lib/python3.10/dist-packages (from python-dateutil>=2.8.2->pandas==2.2.2) (1.16.0)\n",
            "Downloading pandas-2.2.2-cp310-cp310-manylinux_2_17_x86_64.manylinux2014_x86_64.whl (13.0 MB)\n",
            "\u001b[2K   \u001b[90m━━━━━━━━━━━━━━━━━━━━━━━━━━━━━━━━━━━━━━━━\u001b[0m \u001b[32m13.0/13.0 MB\u001b[0m \u001b[31m11.9 MB/s\u001b[0m eta \u001b[36m0:00:00\u001b[0m\n",
            "\u001b[?25hBuilding wheels for collected packages: pyspark\n",
            "  Building wheel for pyspark (setup.py) ... \u001b[?25l\u001b[?25hdone\n",
            "  Created wheel for pyspark: filename=pyspark-3.4.1-py2.py3-none-any.whl size=311285391 sha256=b0ccbe64a0d187cbec06daa0018458fc97cc66b1d0b0852a4beaf7b255484f07\n",
            "  Stored in directory: /root/.cache/pip/wheels/0d/77/a3/ff2f74cc9ab41f8f594dabf0579c2a7c6de920d584206e0834\n",
            "Successfully built pyspark\n",
            "Installing collected packages: pyspark, pandas\n",
            "  Attempting uninstall: pandas\n",
            "    Found existing installation: pandas 2.1.4\n",
            "    Uninstalling pandas-2.1.4:\n",
            "      Successfully uninstalled pandas-2.1.4\n",
            "\u001b[31mERROR: pip's dependency resolver does not currently take into account all the packages that are installed. This behaviour is the source of the following dependency conflicts.\n",
            "cudf-cu12 24.4.1 requires pandas<2.2.2dev0,>=2.0, but you have pandas 2.2.2 which is incompatible.\n",
            "google-colab 1.0.0 requires pandas==2.1.4, but you have pandas 2.2.2 which is incompatible.\u001b[0m\u001b[31m\n",
            "\u001b[0mSuccessfully installed pandas-2.2.2 pyspark-3.4.1\n"
          ]
        }
      ],
      "source": [
        "pip install pandas==2.2.2 numpy pyspark==3.4.1"
      ]
    },
    {
      "cell_type": "code",
      "source": [
        "# Contoh membuat DataFrame sederhana dan operasi dasar\n",
        "from pyspark.sql import SparkSession\n",
        "spark = SparkSession.builder.appName('HandsOnPertemuan6').getOrCreate()\n",
        "\n",
        "data = [('Siti', 'Sales', 26, 1500),\n",
        "        ('Dave the Void Wizard', 'Penyihir', 100, 3000),\n",
        "        ('Burgundi', 'Pelukis', 41, 5000),\n",
        "        ('Skrong', 'Pokemon Trainer', 20, 2000)]\n",
        "columns = ['Nama', 'Pekerjaan', 'Umur', 'Gaji']\n",
        "\n",
        "df = spark.createDataFrame(data, schema=columns)\n",
        "df.show()"
      ],
      "metadata": {
        "colab": {
          "base_uri": "https://localhost:8080/"
        },
        "id": "tXZ5VdknyGw6",
        "outputId": "0113965b-bba0-4996-fb1d-35ab22ca4755"
      },
      "execution_count": null,
      "outputs": [
        {
          "output_type": "stream",
          "name": "stdout",
          "text": [
            "+--------------------+---------------+----+----+\n",
            "|                Nama|      Pekerjaan|Umur|Gaji|\n",
            "+--------------------+---------------+----+----+\n",
            "|                Siti|          Sales|  26|1500|\n",
            "|Dave the Void Wizard|       Penyihir| 100|3000|\n",
            "|            Burgundi|        Pelukis|  41|5000|\n",
            "|              Skrong|Pokemon Trainer|  20|2000|\n",
            "+--------------------+---------------+----+----+\n",
            "\n"
          ]
        }
      ]
    },
    {
      "cell_type": "code",
      "source": [
        "# Contoh operasi transformasi DataFrame\n",
        "df.select('Nama', 'Umur').show()\n",
        "df.filter(df['Umur'] > 30).show()\n",
        "df.groupBy('Pekerjaan').avg('Umur').show()"
      ],
      "metadata": {
        "colab": {
          "base_uri": "https://localhost:8080/"
        },
        "id": "kjDC4srvy-OV",
        "outputId": "bae6fa22-2171-4c1f-8868-ad028f58d6a1"
      },
      "execution_count": null,
      "outputs": [
        {
          "output_type": "stream",
          "name": "stdout",
          "text": [
            "+--------------------+----+\n",
            "|                Nama|Umur|\n",
            "+--------------------+----+\n",
            "|                Siti|  26|\n",
            "|Dave the Void Wizard| 100|\n",
            "|            Burgundi|  41|\n",
            "|              Skrong|  20|\n",
            "+--------------------+----+\n",
            "\n",
            "+--------------------+---------+----+----+\n",
            "|                Nama|Pekerjaan|Umur|Gaji|\n",
            "+--------------------+---------+----+----+\n",
            "|Dave the Void Wizard| Penyihir| 100|3000|\n",
            "|            Burgundi|  Pelukis|  41|5000|\n",
            "+--------------------+---------+----+----+\n",
            "\n",
            "+---------------+---------+\n",
            "|      Pekerjaan|avg(Umur)|\n",
            "+---------------+---------+\n",
            "|          Sales|     26.0|\n",
            "|       Penyihir|    100.0|\n",
            "|Pokemon Trainer|     20.0|\n",
            "|        Pelukis|     41.0|\n",
            "+---------------+---------+\n",
            "\n"
          ]
        }
      ]
    },
    {
      "cell_type": "code",
      "source": [
        "from pyspark.sql.functions import col\n",
        "\n",
        "df = df.withColumn(\"BonusGaji\", col(\"Gaji\") * 0.5)\n",
        "df.show()\n"
      ],
      "metadata": {
        "colab": {
          "base_uri": "https://localhost:8080/"
        },
        "id": "VUNcpGmq0Dq5",
        "outputId": "0ff63a23-46b9-450b-dc22-ab36bb67b206"
      },
      "execution_count": null,
      "outputs": [
        {
          "output_type": "stream",
          "name": "stdout",
          "text": [
            "+--------------------+---------------+----+----+---------+\n",
            "|                Nama|      Pekerjaan|Umur|Gaji|BonusGaji|\n",
            "+--------------------+---------------+----+----+---------+\n",
            "|                Siti|          Sales|  26|1500|    750.0|\n",
            "|Dave the Void Wizard|       Penyihir| 100|3000|   1500.0|\n",
            "|            Burgundi|        Pelukis|  41|5000|   2500.0|\n",
            "|              Skrong|Pokemon Trainer|  20|2000|   1000.0|\n",
            "+--------------------+---------------+----+----+---------+\n",
            "\n"
          ]
        }
      ]
    },
    {
      "cell_type": "code",
      "source": [
        "# Contoh manipulasi tipe data kompleks\n",
        "df.withColumn('BonusGaji', df['Gaji'] * 0.5).show()\n",
        "df.withColumn('TotalGaji', df['Gaji'] + df['BonusGaji']).show()"
      ],
      "metadata": {
        "colab": {
          "base_uri": "https://localhost:8080/"
        },
        "id": "dhXgQxLfzLNb",
        "outputId": "d58f2c08-5d4c-47ad-e1d7-98feee016d00"
      },
      "execution_count": null,
      "outputs": [
        {
          "output_type": "stream",
          "name": "stdout",
          "text": [
            "+--------------------+---------------+----+----+---------+\n",
            "|                Nama|      Pekerjaan|Umur|Gaji|BonusGaji|\n",
            "+--------------------+---------------+----+----+---------+\n",
            "|                Siti|          Sales|  26|1500|    750.0|\n",
            "|Dave the Void Wizard|       Penyihir| 100|3000|   1500.0|\n",
            "|            Burgundi|        Pelukis|  41|5000|   2500.0|\n",
            "|              Skrong|Pokemon Trainer|  20|2000|   1000.0|\n",
            "+--------------------+---------------+----+----+---------+\n",
            "\n",
            "+--------------------+---------------+----+----+---------+---------+\n",
            "|                Nama|      Pekerjaan|Umur|Gaji|BonusGaji|TotalGaji|\n",
            "+--------------------+---------------+----+----+---------+---------+\n",
            "|                Siti|          Sales|  26|1500|    750.0|   2250.0|\n",
            "|Dave the Void Wizard|       Penyihir| 100|3000|   1500.0|   4500.0|\n",
            "|            Burgundi|        Pelukis|  41|5000|   2500.0|   7500.0|\n",
            "|              Skrong|Pokemon Trainer|  20|2000|   1000.0|   3000.0|\n",
            "+--------------------+---------------+----+----+---------+---------+\n",
            "\n"
          ]
        }
      ]
    },
    {
      "cell_type": "code",
      "source": [
        "# Contoh menggunakan window functions\n",
        "from pyspark.sql.window import Window\n",
        "from pyspark.sql import functions as F\n",
        "\n",
        "windowSpec = Window.orderBy('BonusGaji')\n",
        "df.withColumn('Rank', F.rank().over(windowSpec)).show()"
      ],
      "metadata": {
        "colab": {
          "base_uri": "https://localhost:8080/"
        },
        "id": "EW2eJewRzPnU",
        "outputId": "8db5c42f-1d52-4a70-fd86-daddaf4af3d6"
      },
      "execution_count": null,
      "outputs": [
        {
          "output_type": "stream",
          "name": "stdout",
          "text": [
            "+--------------------+---------------+----+----+---------+----+\n",
            "|                Nama|      Pekerjaan|Umur|Gaji|BonusGaji|Rank|\n",
            "+--------------------+---------------+----+----+---------+----+\n",
            "|                Siti|          Sales|  26|1500|    750.0|   1|\n",
            "|              Skrong|Pokemon Trainer|  20|2000|   1000.0|   2|\n",
            "|Dave the Void Wizard|       Penyihir| 100|3000|   1500.0|   3|\n",
            "|            Burgundi|        Pelukis|  41|5000|   2500.0|   4|\n",
            "+--------------------+---------------+----+----+---------+----+\n",
            "\n"
          ]
        }
      ]
    },
    {
      "cell_type": "markdown",
      "source": [
        "Review apa yang telah dipelajari tentang pemrosesan data menggunakan Spark dan eksplorasi teknik lebih lanjut untuk mengoptimalkan pemrosesan data Anda.\n",
        "\n",
        "Tugas 5: Buat ringkasan dari semua operasi yang telah dilakukan dan bagaimana teknik ini dapat diterapkan pada proyek data Anda."
      ],
      "metadata": {
        "id": "467jADM75_2d"
      }
    }
  ]
}